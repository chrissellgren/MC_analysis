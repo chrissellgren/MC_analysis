{
 "cells": [
  {
   "cell_type": "code",
   "execution_count": 1,
   "id": "f1ba72de",
   "metadata": {},
   "outputs": [],
   "source": [
    "# making the tasklist for running 400 simulations, 20x20 in each direction"
   ]
  },
  {
   "cell_type": "code",
   "execution_count": 9,
   "id": "f9767769",
   "metadata": {},
   "outputs": [],
   "source": [
    "import numpy as np\n",
    "\n",
    "zrange = np.arange(0,10,0.2)\n",
    "n = len(zrange)\n",
    "tasks = [\"\"] * n\n",
    "for i in range(n):    \n",
    "    onetask = \"./sim-worker.sh n mugun_%.1d.slcio %.1d\" % (zrange[i], zrange[i])\n",
    "    tasks[i] = onetask\n"
   ]
  },
  {
   "cell_type": "code",
   "execution_count": 10,
   "id": "cec449e0",
   "metadata": {},
   "outputs": [
    {
     "name": "stdout",
     "output_type": "stream",
     "text": [
      "['./sim-worker.sh n mugun_0.slcio 0', './sim-worker.sh n mugun_0.slcio 0', './sim-worker.sh n mugun_0.slcio 0', './sim-worker.sh n mugun_0.slcio 0', './sim-worker.sh n mugun_0.slcio 0', './sim-worker.sh n mugun_1.slcio 1', './sim-worker.sh n mugun_1.slcio 1', './sim-worker.sh n mugun_1.slcio 1', './sim-worker.sh n mugun_1.slcio 1', './sim-worker.sh n mugun_1.slcio 1', './sim-worker.sh n mugun_2.slcio 2', './sim-worker.sh n mugun_2.slcio 2', './sim-worker.sh n mugun_2.slcio 2', './sim-worker.sh n mugun_2.slcio 2', './sim-worker.sh n mugun_2.slcio 2', './sim-worker.sh n mugun_3.slcio 3', './sim-worker.sh n mugun_3.slcio 3', './sim-worker.sh n mugun_3.slcio 3', './sim-worker.sh n mugun_3.slcio 3', './sim-worker.sh n mugun_3.slcio 3', './sim-worker.sh n mugun_4.slcio 4', './sim-worker.sh n mugun_4.slcio 4', './sim-worker.sh n mugun_4.slcio 4', './sim-worker.sh n mugun_4.slcio 4', './sim-worker.sh n mugun_4.slcio 4', './sim-worker.sh n mugun_5.slcio 5', './sim-worker.sh n mugun_5.slcio 5', './sim-worker.sh n mugun_5.slcio 5', './sim-worker.sh n mugun_5.slcio 5', './sim-worker.sh n mugun_5.slcio 5', './sim-worker.sh n mugun_6.slcio 6', './sim-worker.sh n mugun_6.slcio 6', './sim-worker.sh n mugun_6.slcio 6', './sim-worker.sh n mugun_6.slcio 6', './sim-worker.sh n mugun_6.slcio 6', './sim-worker.sh n mugun_7.slcio 7', './sim-worker.sh n mugun_7.slcio 7', './sim-worker.sh n mugun_7.slcio 7', './sim-worker.sh n mugun_7.slcio 7', './sim-worker.sh n mugun_7.slcio 7', './sim-worker.sh n mugun_8.slcio 8', './sim-worker.sh n mugun_8.slcio 8', './sim-worker.sh n mugun_8.slcio 8', './sim-worker.sh n mugun_8.slcio 8', './sim-worker.sh n mugun_8.slcio 8', './sim-worker.sh n mugun_9.slcio 9', './sim-worker.sh n mugun_9.slcio 9', './sim-worker.sh n mugun_9.slcio 9', './sim-worker.sh n mugun_9.slcio 9', './sim-worker.sh n mugun_9.slcio 9']\n"
     ]
    }
   ],
   "source": [
    "print(tasks)"
   ]
  },
  {
   "cell_type": "code",
   "execution_count": null,
   "id": "0e87a956",
   "metadata": {},
   "outputs": [],
   "source": []
  }
 ],
 "metadata": {
  "kernelspec": {
   "display_name": "Python 3 (ipykernel)",
   "language": "python",
   "name": "python3"
  },
  "language_info": {
   "codemirror_mode": {
    "name": "ipython",
    "version": 3
   },
   "file_extension": ".py",
   "mimetype": "text/x-python",
   "name": "python",
   "nbconvert_exporter": "python",
   "pygments_lexer": "ipython3",
   "version": "3.11.3"
  }
 },
 "nbformat": 4,
 "nbformat_minor": 5
}
